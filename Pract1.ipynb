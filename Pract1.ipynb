{
  "nbformat": 4,
  "nbformat_minor": 0,
  "metadata": {
    "colab": {
      "provenance": [],
      "authorship_tag": "ABX9TyN/L3lWYsxU0P+Y23KuTkSI",
      "include_colab_link": true
    },
    "kernelspec": {
      "name": "python3",
      "display_name": "Python 3"
    },
    "language_info": {
      "name": "python"
    }
  },
  "cells": [
    {
      "cell_type": "markdown",
      "metadata": {
        "id": "view-in-github",
        "colab_type": "text"
      },
      "source": [
        "<a href=\"https://colab.research.google.com/github/ShubhamP1028/DeepLearningTute/blob/main/Pract1.ipynb\" target=\"_parent\"><img src=\"https://colab.research.google.com/assets/colab-badge.svg\" alt=\"Open In Colab\"/></a>"
      ]
    },
    {
      "cell_type": "markdown",
      "source": [
        "# Write a program to implement perceptrons in multiclass classification"
      ],
      "metadata": {
        "id": "XfEfVa25sdce"
      }
    },
    {
      "cell_type": "code",
      "execution_count": 2,
      "metadata": {
        "colab": {
          "base_uri": "https://localhost:8080/"
        },
        "id": "hMoXjXsQqYcu",
        "outputId": "281b6afe-841e-434c-97f5-58a9b702b94c"
      },
      "outputs": [
        {
          "output_type": "execute_result",
          "data": {
            "text/plain": [
              "{'data': array([[1.423e+01, 1.710e+00, 2.430e+00, ..., 1.040e+00, 3.920e+00,\n",
              "         1.065e+03],\n",
              "        [1.320e+01, 1.780e+00, 2.140e+00, ..., 1.050e+00, 3.400e+00,\n",
              "         1.050e+03],\n",
              "        [1.316e+01, 2.360e+00, 2.670e+00, ..., 1.030e+00, 3.170e+00,\n",
              "         1.185e+03],\n",
              "        ...,\n",
              "        [1.327e+01, 4.280e+00, 2.260e+00, ..., 5.900e-01, 1.560e+00,\n",
              "         8.350e+02],\n",
              "        [1.317e+01, 2.590e+00, 2.370e+00, ..., 6.000e-01, 1.620e+00,\n",
              "         8.400e+02],\n",
              "        [1.413e+01, 4.100e+00, 2.740e+00, ..., 6.100e-01, 1.600e+00,\n",
              "         5.600e+02]]),\n",
              " 'target': array([0, 0, 0, 0, 0, 0, 0, 0, 0, 0, 0, 0, 0, 0, 0, 0, 0, 0, 0, 0, 0, 0,\n",
              "        0, 0, 0, 0, 0, 0, 0, 0, 0, 0, 0, 0, 0, 0, 0, 0, 0, 0, 0, 0, 0, 0,\n",
              "        0, 0, 0, 0, 0, 0, 0, 0, 0, 0, 0, 0, 0, 0, 0, 1, 1, 1, 1, 1, 1, 1,\n",
              "        1, 1, 1, 1, 1, 1, 1, 1, 1, 1, 1, 1, 1, 1, 1, 1, 1, 1, 1, 1, 1, 1,\n",
              "        1, 1, 1, 1, 1, 1, 1, 1, 1, 1, 1, 1, 1, 1, 1, 1, 1, 1, 1, 1, 1, 1,\n",
              "        1, 1, 1, 1, 1, 1, 1, 1, 1, 1, 1, 1, 1, 1, 1, 1, 1, 1, 1, 1, 2, 2,\n",
              "        2, 2, 2, 2, 2, 2, 2, 2, 2, 2, 2, 2, 2, 2, 2, 2, 2, 2, 2, 2, 2, 2,\n",
              "        2, 2, 2, 2, 2, 2, 2, 2, 2, 2, 2, 2, 2, 2, 2, 2, 2, 2, 2, 2, 2, 2,\n",
              "        2, 2]),\n",
              " 'frame': None,\n",
              " 'target_names': array(['class_0', 'class_1', 'class_2'], dtype='<U7'),\n",
              " 'DESCR': '.. _wine_dataset:\\n\\nWine recognition dataset\\n------------------------\\n\\n**Data Set Characteristics:**\\n\\n:Number of Instances: 178\\n:Number of Attributes: 13 numeric, predictive attributes and the class\\n:Attribute Information:\\n    - Alcohol\\n    - Malic acid\\n    - Ash\\n    - Alcalinity of ash\\n    - Magnesium\\n    - Total phenols\\n    - Flavanoids\\n    - Nonflavanoid phenols\\n    - Proanthocyanins\\n    - Color intensity\\n    - Hue\\n    - OD280/OD315 of diluted wines\\n    - Proline\\n    - class:\\n        - class_0\\n        - class_1\\n        - class_2\\n\\n:Summary Statistics:\\n\\n============================= ==== ===== ======= =====\\n                                Min   Max   Mean     SD\\n============================= ==== ===== ======= =====\\nAlcohol:                      11.0  14.8    13.0   0.8\\nMalic Acid:                   0.74  5.80    2.34  1.12\\nAsh:                          1.36  3.23    2.36  0.27\\nAlcalinity of Ash:            10.6  30.0    19.5   3.3\\nMagnesium:                    70.0 162.0    99.7  14.3\\nTotal Phenols:                0.98  3.88    2.29  0.63\\nFlavanoids:                   0.34  5.08    2.03  1.00\\nNonflavanoid Phenols:         0.13  0.66    0.36  0.12\\nProanthocyanins:              0.41  3.58    1.59  0.57\\nColour Intensity:              1.3  13.0     5.1   2.3\\nHue:                          0.48  1.71    0.96  0.23\\nOD280/OD315 of diluted wines: 1.27  4.00    2.61  0.71\\nProline:                       278  1680     746   315\\n============================= ==== ===== ======= =====\\n\\n:Missing Attribute Values: None\\n:Class Distribution: class_0 (59), class_1 (71), class_2 (48)\\n:Creator: R.A. Fisher\\n:Donor: Michael Marshall (MARSHALL%PLU@io.arc.nasa.gov)\\n:Date: July, 1988\\n\\nThis is a copy of UCI ML Wine recognition datasets.\\nhttps://archive.ics.uci.edu/ml/machine-learning-databases/wine/wine.data\\n\\nThe data is the results of a chemical analysis of wines grown in the same\\nregion in Italy by three different cultivators. There are thirteen different\\nmeasurements taken for different constituents found in the three types of\\nwine.\\n\\nOriginal Owners:\\n\\nForina, M. et al, PARVUS -\\nAn Extendible Package for Data Exploration, Classification and Correlation.\\nInstitute of Pharmaceutical and Food Analysis and Technologies,\\nVia Brigata Salerno, 16147 Genoa, Italy.\\n\\nCitation:\\n\\nLichman, M. (2013). UCI Machine Learning Repository\\n[https://archive.ics.uci.edu/ml]. Irvine, CA: University of California,\\nSchool of Information and Computer Science.\\n\\n.. dropdown:: References\\n\\n    (1) S. Aeberhard, D. Coomans and O. de Vel,\\n    Comparison of Classifiers in High Dimensional Settings,\\n    Tech. Rep. no. 92-02, (1992), Dept. of Computer Science and Dept. of\\n    Mathematics and Statistics, James Cook University of North Queensland.\\n    (Also submitted to Technometrics).\\n\\n    The data was used with many others for comparing various\\n    classifiers. The classes are separable, though only RDA\\n    has achieved 100% correct classification.\\n    (RDA : 100%, QDA 99.4%, LDA 98.9%, 1NN 96.1% (z-transformed data))\\n    (All results using the leave-one-out technique)\\n\\n    (2) S. Aeberhard, D. Coomans and O. de Vel,\\n    \"THE CLASSIFICATION PERFORMANCE OF RDA\"\\n    Tech. Rep. no. 92-01, (1992), Dept. of Computer Science and Dept. of\\n    Mathematics and Statistics, James Cook University of North Queensland.\\n    (Also submitted to Journal of Chemometrics).\\n',\n",
              " 'feature_names': ['alcohol',\n",
              "  'malic_acid',\n",
              "  'ash',\n",
              "  'alcalinity_of_ash',\n",
              "  'magnesium',\n",
              "  'total_phenols',\n",
              "  'flavanoids',\n",
              "  'nonflavanoid_phenols',\n",
              "  'proanthocyanins',\n",
              "  'color_intensity',\n",
              "  'hue',\n",
              "  'od280/od315_of_diluted_wines',\n",
              "  'proline']}"
            ]
          },
          "metadata": {},
          "execution_count": 2
        }
      ],
      "source": [
        "import numpy as np\n",
        "from sklearn.datasets import load_wine\n",
        "from sklearn.model_selection import train_test_split\n",
        "from sklearn.preprocessing import StandardScaler\n",
        "from sklearn.metrics import accuracy_score, classification_report\n",
        "\n",
        "data = load_wine()\n",
        "data"
      ]
    },
    {
      "cell_type": "code",
      "source": [
        "x = data.data\n",
        "x"
      ],
      "metadata": {
        "colab": {
          "base_uri": "https://localhost:8080/"
        },
        "id": "_REqpQmFtNOF",
        "outputId": "65c35459-21b7-41cf-e0ae-e927e22003e2"
      },
      "execution_count": 5,
      "outputs": [
        {
          "output_type": "execute_result",
          "data": {
            "text/plain": [
              "array([[1.423e+01, 1.710e+00, 2.430e+00, ..., 1.040e+00, 3.920e+00,\n",
              "        1.065e+03],\n",
              "       [1.320e+01, 1.780e+00, 2.140e+00, ..., 1.050e+00, 3.400e+00,\n",
              "        1.050e+03],\n",
              "       [1.316e+01, 2.360e+00, 2.670e+00, ..., 1.030e+00, 3.170e+00,\n",
              "        1.185e+03],\n",
              "       ...,\n",
              "       [1.327e+01, 4.280e+00, 2.260e+00, ..., 5.900e-01, 1.560e+00,\n",
              "        8.350e+02],\n",
              "       [1.317e+01, 2.590e+00, 2.370e+00, ..., 6.000e-01, 1.620e+00,\n",
              "        8.400e+02],\n",
              "       [1.413e+01, 4.100e+00, 2.740e+00, ..., 6.100e-01, 1.600e+00,\n",
              "        5.600e+02]])"
            ]
          },
          "metadata": {},
          "execution_count": 5
        }
      ]
    },
    {
      "cell_type": "code",
      "source": [
        "y = data.target\n",
        "y"
      ],
      "metadata": {
        "colab": {
          "base_uri": "https://localhost:8080/"
        },
        "id": "iX_VsPCIu7eB",
        "outputId": "7e7ac381-2d74-4c77-a159-30d149f0239c"
      },
      "execution_count": 6,
      "outputs": [
        {
          "output_type": "execute_result",
          "data": {
            "text/plain": [
              "array([0, 0, 0, 0, 0, 0, 0, 0, 0, 0, 0, 0, 0, 0, 0, 0, 0, 0, 0, 0, 0, 0,\n",
              "       0, 0, 0, 0, 0, 0, 0, 0, 0, 0, 0, 0, 0, 0, 0, 0, 0, 0, 0, 0, 0, 0,\n",
              "       0, 0, 0, 0, 0, 0, 0, 0, 0, 0, 0, 0, 0, 0, 0, 1, 1, 1, 1, 1, 1, 1,\n",
              "       1, 1, 1, 1, 1, 1, 1, 1, 1, 1, 1, 1, 1, 1, 1, 1, 1, 1, 1, 1, 1, 1,\n",
              "       1, 1, 1, 1, 1, 1, 1, 1, 1, 1, 1, 1, 1, 1, 1, 1, 1, 1, 1, 1, 1, 1,\n",
              "       1, 1, 1, 1, 1, 1, 1, 1, 1, 1, 1, 1, 1, 1, 1, 1, 1, 1, 1, 1, 2, 2,\n",
              "       2, 2, 2, 2, 2, 2, 2, 2, 2, 2, 2, 2, 2, 2, 2, 2, 2, 2, 2, 2, 2, 2,\n",
              "       2, 2, 2, 2, 2, 2, 2, 2, 2, 2, 2, 2, 2, 2, 2, 2, 2, 2, 2, 2, 2, 2,\n",
              "       2, 2])"
            ]
          },
          "metadata": {},
          "execution_count": 6
        }
      ]
    },
    {
      "cell_type": "code",
      "source": [
        "scaler = StandardScaler()\n",
        "scaler\n"
      ],
      "metadata": {
        "colab": {
          "base_uri": "https://localhost:8080/",
          "height": 80
        },
        "id": "Qx-XiAa5u-UG",
        "outputId": "41a1dab3-4f28-4e3a-8cb7-7fd6dfee7724"
      },
      "execution_count": 7,
      "outputs": [
        {
          "output_type": "execute_result",
          "data": {
            "text/plain": [
              "StandardScaler()"
            ],
            "text/html": [
              "<style>#sk-container-id-1 {\n",
              "  /* Definition of color scheme common for light and dark mode */\n",
              "  --sklearn-color-text: #000;\n",
              "  --sklearn-color-text-muted: #666;\n",
              "  --sklearn-color-line: gray;\n",
              "  /* Definition of color scheme for unfitted estimators */\n",
              "  --sklearn-color-unfitted-level-0: #fff5e6;\n",
              "  --sklearn-color-unfitted-level-1: #f6e4d2;\n",
              "  --sklearn-color-unfitted-level-2: #ffe0b3;\n",
              "  --sklearn-color-unfitted-level-3: chocolate;\n",
              "  /* Definition of color scheme for fitted estimators */\n",
              "  --sklearn-color-fitted-level-0: #f0f8ff;\n",
              "  --sklearn-color-fitted-level-1: #d4ebff;\n",
              "  --sklearn-color-fitted-level-2: #b3dbfd;\n",
              "  --sklearn-color-fitted-level-3: cornflowerblue;\n",
              "\n",
              "  /* Specific color for light theme */\n",
              "  --sklearn-color-text-on-default-background: var(--sg-text-color, var(--theme-code-foreground, var(--jp-content-font-color1, black)));\n",
              "  --sklearn-color-background: var(--sg-background-color, var(--theme-background, var(--jp-layout-color0, white)));\n",
              "  --sklearn-color-border-box: var(--sg-text-color, var(--theme-code-foreground, var(--jp-content-font-color1, black)));\n",
              "  --sklearn-color-icon: #696969;\n",
              "\n",
              "  @media (prefers-color-scheme: dark) {\n",
              "    /* Redefinition of color scheme for dark theme */\n",
              "    --sklearn-color-text-on-default-background: var(--sg-text-color, var(--theme-code-foreground, var(--jp-content-font-color1, white)));\n",
              "    --sklearn-color-background: var(--sg-background-color, var(--theme-background, var(--jp-layout-color0, #111)));\n",
              "    --sklearn-color-border-box: var(--sg-text-color, var(--theme-code-foreground, var(--jp-content-font-color1, white)));\n",
              "    --sklearn-color-icon: #878787;\n",
              "  }\n",
              "}\n",
              "\n",
              "#sk-container-id-1 {\n",
              "  color: var(--sklearn-color-text);\n",
              "}\n",
              "\n",
              "#sk-container-id-1 pre {\n",
              "  padding: 0;\n",
              "}\n",
              "\n",
              "#sk-container-id-1 input.sk-hidden--visually {\n",
              "  border: 0;\n",
              "  clip: rect(1px 1px 1px 1px);\n",
              "  clip: rect(1px, 1px, 1px, 1px);\n",
              "  height: 1px;\n",
              "  margin: -1px;\n",
              "  overflow: hidden;\n",
              "  padding: 0;\n",
              "  position: absolute;\n",
              "  width: 1px;\n",
              "}\n",
              "\n",
              "#sk-container-id-1 div.sk-dashed-wrapped {\n",
              "  border: 1px dashed var(--sklearn-color-line);\n",
              "  margin: 0 0.4em 0.5em 0.4em;\n",
              "  box-sizing: border-box;\n",
              "  padding-bottom: 0.4em;\n",
              "  background-color: var(--sklearn-color-background);\n",
              "}\n",
              "\n",
              "#sk-container-id-1 div.sk-container {\n",
              "  /* jupyter's `normalize.less` sets `[hidden] { display: none; }`\n",
              "     but bootstrap.min.css set `[hidden] { display: none !important; }`\n",
              "     so we also need the `!important` here to be able to override the\n",
              "     default hidden behavior on the sphinx rendered scikit-learn.org.\n",
              "     See: https://github.com/scikit-learn/scikit-learn/issues/21755 */\n",
              "  display: inline-block !important;\n",
              "  position: relative;\n",
              "}\n",
              "\n",
              "#sk-container-id-1 div.sk-text-repr-fallback {\n",
              "  display: none;\n",
              "}\n",
              "\n",
              "div.sk-parallel-item,\n",
              "div.sk-serial,\n",
              "div.sk-item {\n",
              "  /* draw centered vertical line to link estimators */\n",
              "  background-image: linear-gradient(var(--sklearn-color-text-on-default-background), var(--sklearn-color-text-on-default-background));\n",
              "  background-size: 2px 100%;\n",
              "  background-repeat: no-repeat;\n",
              "  background-position: center center;\n",
              "}\n",
              "\n",
              "/* Parallel-specific style estimator block */\n",
              "\n",
              "#sk-container-id-1 div.sk-parallel-item::after {\n",
              "  content: \"\";\n",
              "  width: 100%;\n",
              "  border-bottom: 2px solid var(--sklearn-color-text-on-default-background);\n",
              "  flex-grow: 1;\n",
              "}\n",
              "\n",
              "#sk-container-id-1 div.sk-parallel {\n",
              "  display: flex;\n",
              "  align-items: stretch;\n",
              "  justify-content: center;\n",
              "  background-color: var(--sklearn-color-background);\n",
              "  position: relative;\n",
              "}\n",
              "\n",
              "#sk-container-id-1 div.sk-parallel-item {\n",
              "  display: flex;\n",
              "  flex-direction: column;\n",
              "}\n",
              "\n",
              "#sk-container-id-1 div.sk-parallel-item:first-child::after {\n",
              "  align-self: flex-end;\n",
              "  width: 50%;\n",
              "}\n",
              "\n",
              "#sk-container-id-1 div.sk-parallel-item:last-child::after {\n",
              "  align-self: flex-start;\n",
              "  width: 50%;\n",
              "}\n",
              "\n",
              "#sk-container-id-1 div.sk-parallel-item:only-child::after {\n",
              "  width: 0;\n",
              "}\n",
              "\n",
              "/* Serial-specific style estimator block */\n",
              "\n",
              "#sk-container-id-1 div.sk-serial {\n",
              "  display: flex;\n",
              "  flex-direction: column;\n",
              "  align-items: center;\n",
              "  background-color: var(--sklearn-color-background);\n",
              "  padding-right: 1em;\n",
              "  padding-left: 1em;\n",
              "}\n",
              "\n",
              "\n",
              "/* Toggleable style: style used for estimator/Pipeline/ColumnTransformer box that is\n",
              "clickable and can be expanded/collapsed.\n",
              "- Pipeline and ColumnTransformer use this feature and define the default style\n",
              "- Estimators will overwrite some part of the style using the `sk-estimator` class\n",
              "*/\n",
              "\n",
              "/* Pipeline and ColumnTransformer style (default) */\n",
              "\n",
              "#sk-container-id-1 div.sk-toggleable {\n",
              "  /* Default theme specific background. It is overwritten whether we have a\n",
              "  specific estimator or a Pipeline/ColumnTransformer */\n",
              "  background-color: var(--sklearn-color-background);\n",
              "}\n",
              "\n",
              "/* Toggleable label */\n",
              "#sk-container-id-1 label.sk-toggleable__label {\n",
              "  cursor: pointer;\n",
              "  display: flex;\n",
              "  width: 100%;\n",
              "  margin-bottom: 0;\n",
              "  padding: 0.5em;\n",
              "  box-sizing: border-box;\n",
              "  text-align: center;\n",
              "  align-items: start;\n",
              "  justify-content: space-between;\n",
              "  gap: 0.5em;\n",
              "}\n",
              "\n",
              "#sk-container-id-1 label.sk-toggleable__label .caption {\n",
              "  font-size: 0.6rem;\n",
              "  font-weight: lighter;\n",
              "  color: var(--sklearn-color-text-muted);\n",
              "}\n",
              "\n",
              "#sk-container-id-1 label.sk-toggleable__label-arrow:before {\n",
              "  /* Arrow on the left of the label */\n",
              "  content: \"▸\";\n",
              "  float: left;\n",
              "  margin-right: 0.25em;\n",
              "  color: var(--sklearn-color-icon);\n",
              "}\n",
              "\n",
              "#sk-container-id-1 label.sk-toggleable__label-arrow:hover:before {\n",
              "  color: var(--sklearn-color-text);\n",
              "}\n",
              "\n",
              "/* Toggleable content - dropdown */\n",
              "\n",
              "#sk-container-id-1 div.sk-toggleable__content {\n",
              "  max-height: 0;\n",
              "  max-width: 0;\n",
              "  overflow: hidden;\n",
              "  text-align: left;\n",
              "  /* unfitted */\n",
              "  background-color: var(--sklearn-color-unfitted-level-0);\n",
              "}\n",
              "\n",
              "#sk-container-id-1 div.sk-toggleable__content.fitted {\n",
              "  /* fitted */\n",
              "  background-color: var(--sklearn-color-fitted-level-0);\n",
              "}\n",
              "\n",
              "#sk-container-id-1 div.sk-toggleable__content pre {\n",
              "  margin: 0.2em;\n",
              "  border-radius: 0.25em;\n",
              "  color: var(--sklearn-color-text);\n",
              "  /* unfitted */\n",
              "  background-color: var(--sklearn-color-unfitted-level-0);\n",
              "}\n",
              "\n",
              "#sk-container-id-1 div.sk-toggleable__content.fitted pre {\n",
              "  /* unfitted */\n",
              "  background-color: var(--sklearn-color-fitted-level-0);\n",
              "}\n",
              "\n",
              "#sk-container-id-1 input.sk-toggleable__control:checked~div.sk-toggleable__content {\n",
              "  /* Expand drop-down */\n",
              "  max-height: 200px;\n",
              "  max-width: 100%;\n",
              "  overflow: auto;\n",
              "}\n",
              "\n",
              "#sk-container-id-1 input.sk-toggleable__control:checked~label.sk-toggleable__label-arrow:before {\n",
              "  content: \"▾\";\n",
              "}\n",
              "\n",
              "/* Pipeline/ColumnTransformer-specific style */\n",
              "\n",
              "#sk-container-id-1 div.sk-label input.sk-toggleable__control:checked~label.sk-toggleable__label {\n",
              "  color: var(--sklearn-color-text);\n",
              "  background-color: var(--sklearn-color-unfitted-level-2);\n",
              "}\n",
              "\n",
              "#sk-container-id-1 div.sk-label.fitted input.sk-toggleable__control:checked~label.sk-toggleable__label {\n",
              "  background-color: var(--sklearn-color-fitted-level-2);\n",
              "}\n",
              "\n",
              "/* Estimator-specific style */\n",
              "\n",
              "/* Colorize estimator box */\n",
              "#sk-container-id-1 div.sk-estimator input.sk-toggleable__control:checked~label.sk-toggleable__label {\n",
              "  /* unfitted */\n",
              "  background-color: var(--sklearn-color-unfitted-level-2);\n",
              "}\n",
              "\n",
              "#sk-container-id-1 div.sk-estimator.fitted input.sk-toggleable__control:checked~label.sk-toggleable__label {\n",
              "  /* fitted */\n",
              "  background-color: var(--sklearn-color-fitted-level-2);\n",
              "}\n",
              "\n",
              "#sk-container-id-1 div.sk-label label.sk-toggleable__label,\n",
              "#sk-container-id-1 div.sk-label label {\n",
              "  /* The background is the default theme color */\n",
              "  color: var(--sklearn-color-text-on-default-background);\n",
              "}\n",
              "\n",
              "/* On hover, darken the color of the background */\n",
              "#sk-container-id-1 div.sk-label:hover label.sk-toggleable__label {\n",
              "  color: var(--sklearn-color-text);\n",
              "  background-color: var(--sklearn-color-unfitted-level-2);\n",
              "}\n",
              "\n",
              "/* Label box, darken color on hover, fitted */\n",
              "#sk-container-id-1 div.sk-label.fitted:hover label.sk-toggleable__label.fitted {\n",
              "  color: var(--sklearn-color-text);\n",
              "  background-color: var(--sklearn-color-fitted-level-2);\n",
              "}\n",
              "\n",
              "/* Estimator label */\n",
              "\n",
              "#sk-container-id-1 div.sk-label label {\n",
              "  font-family: monospace;\n",
              "  font-weight: bold;\n",
              "  display: inline-block;\n",
              "  line-height: 1.2em;\n",
              "}\n",
              "\n",
              "#sk-container-id-1 div.sk-label-container {\n",
              "  text-align: center;\n",
              "}\n",
              "\n",
              "/* Estimator-specific */\n",
              "#sk-container-id-1 div.sk-estimator {\n",
              "  font-family: monospace;\n",
              "  border: 1px dotted var(--sklearn-color-border-box);\n",
              "  border-radius: 0.25em;\n",
              "  box-sizing: border-box;\n",
              "  margin-bottom: 0.5em;\n",
              "  /* unfitted */\n",
              "  background-color: var(--sklearn-color-unfitted-level-0);\n",
              "}\n",
              "\n",
              "#sk-container-id-1 div.sk-estimator.fitted {\n",
              "  /* fitted */\n",
              "  background-color: var(--sklearn-color-fitted-level-0);\n",
              "}\n",
              "\n",
              "/* on hover */\n",
              "#sk-container-id-1 div.sk-estimator:hover {\n",
              "  /* unfitted */\n",
              "  background-color: var(--sklearn-color-unfitted-level-2);\n",
              "}\n",
              "\n",
              "#sk-container-id-1 div.sk-estimator.fitted:hover {\n",
              "  /* fitted */\n",
              "  background-color: var(--sklearn-color-fitted-level-2);\n",
              "}\n",
              "\n",
              "/* Specification for estimator info (e.g. \"i\" and \"?\") */\n",
              "\n",
              "/* Common style for \"i\" and \"?\" */\n",
              "\n",
              ".sk-estimator-doc-link,\n",
              "a:link.sk-estimator-doc-link,\n",
              "a:visited.sk-estimator-doc-link {\n",
              "  float: right;\n",
              "  font-size: smaller;\n",
              "  line-height: 1em;\n",
              "  font-family: monospace;\n",
              "  background-color: var(--sklearn-color-background);\n",
              "  border-radius: 1em;\n",
              "  height: 1em;\n",
              "  width: 1em;\n",
              "  text-decoration: none !important;\n",
              "  margin-left: 0.5em;\n",
              "  text-align: center;\n",
              "  /* unfitted */\n",
              "  border: var(--sklearn-color-unfitted-level-1) 1pt solid;\n",
              "  color: var(--sklearn-color-unfitted-level-1);\n",
              "}\n",
              "\n",
              ".sk-estimator-doc-link.fitted,\n",
              "a:link.sk-estimator-doc-link.fitted,\n",
              "a:visited.sk-estimator-doc-link.fitted {\n",
              "  /* fitted */\n",
              "  border: var(--sklearn-color-fitted-level-1) 1pt solid;\n",
              "  color: var(--sklearn-color-fitted-level-1);\n",
              "}\n",
              "\n",
              "/* On hover */\n",
              "div.sk-estimator:hover .sk-estimator-doc-link:hover,\n",
              ".sk-estimator-doc-link:hover,\n",
              "div.sk-label-container:hover .sk-estimator-doc-link:hover,\n",
              ".sk-estimator-doc-link:hover {\n",
              "  /* unfitted */\n",
              "  background-color: var(--sklearn-color-unfitted-level-3);\n",
              "  color: var(--sklearn-color-background);\n",
              "  text-decoration: none;\n",
              "}\n",
              "\n",
              "div.sk-estimator.fitted:hover .sk-estimator-doc-link.fitted:hover,\n",
              ".sk-estimator-doc-link.fitted:hover,\n",
              "div.sk-label-container:hover .sk-estimator-doc-link.fitted:hover,\n",
              ".sk-estimator-doc-link.fitted:hover {\n",
              "  /* fitted */\n",
              "  background-color: var(--sklearn-color-fitted-level-3);\n",
              "  color: var(--sklearn-color-background);\n",
              "  text-decoration: none;\n",
              "}\n",
              "\n",
              "/* Span, style for the box shown on hovering the info icon */\n",
              ".sk-estimator-doc-link span {\n",
              "  display: none;\n",
              "  z-index: 9999;\n",
              "  position: relative;\n",
              "  font-weight: normal;\n",
              "  right: .2ex;\n",
              "  padding: .5ex;\n",
              "  margin: .5ex;\n",
              "  width: min-content;\n",
              "  min-width: 20ex;\n",
              "  max-width: 50ex;\n",
              "  color: var(--sklearn-color-text);\n",
              "  box-shadow: 2pt 2pt 4pt #999;\n",
              "  /* unfitted */\n",
              "  background: var(--sklearn-color-unfitted-level-0);\n",
              "  border: .5pt solid var(--sklearn-color-unfitted-level-3);\n",
              "}\n",
              "\n",
              ".sk-estimator-doc-link.fitted span {\n",
              "  /* fitted */\n",
              "  background: var(--sklearn-color-fitted-level-0);\n",
              "  border: var(--sklearn-color-fitted-level-3);\n",
              "}\n",
              "\n",
              ".sk-estimator-doc-link:hover span {\n",
              "  display: block;\n",
              "}\n",
              "\n",
              "/* \"?\"-specific style due to the `<a>` HTML tag */\n",
              "\n",
              "#sk-container-id-1 a.estimator_doc_link {\n",
              "  float: right;\n",
              "  font-size: 1rem;\n",
              "  line-height: 1em;\n",
              "  font-family: monospace;\n",
              "  background-color: var(--sklearn-color-background);\n",
              "  border-radius: 1rem;\n",
              "  height: 1rem;\n",
              "  width: 1rem;\n",
              "  text-decoration: none;\n",
              "  /* unfitted */\n",
              "  color: var(--sklearn-color-unfitted-level-1);\n",
              "  border: var(--sklearn-color-unfitted-level-1) 1pt solid;\n",
              "}\n",
              "\n",
              "#sk-container-id-1 a.estimator_doc_link.fitted {\n",
              "  /* fitted */\n",
              "  border: var(--sklearn-color-fitted-level-1) 1pt solid;\n",
              "  color: var(--sklearn-color-fitted-level-1);\n",
              "}\n",
              "\n",
              "/* On hover */\n",
              "#sk-container-id-1 a.estimator_doc_link:hover {\n",
              "  /* unfitted */\n",
              "  background-color: var(--sklearn-color-unfitted-level-3);\n",
              "  color: var(--sklearn-color-background);\n",
              "  text-decoration: none;\n",
              "}\n",
              "\n",
              "#sk-container-id-1 a.estimator_doc_link.fitted:hover {\n",
              "  /* fitted */\n",
              "  background-color: var(--sklearn-color-fitted-level-3);\n",
              "}\n",
              "</style><div id=\"sk-container-id-1\" class=\"sk-top-container\"><div class=\"sk-text-repr-fallback\"><pre>StandardScaler()</pre><b>In a Jupyter environment, please rerun this cell to show the HTML representation or trust the notebook. <br />On GitHub, the HTML representation is unable to render, please try loading this page with nbviewer.org.</b></div><div class=\"sk-container\" hidden><div class=\"sk-item\"><div class=\"sk-estimator  sk-toggleable\"><input class=\"sk-toggleable__control sk-hidden--visually\" id=\"sk-estimator-id-1\" type=\"checkbox\" checked><label for=\"sk-estimator-id-1\" class=\"sk-toggleable__label  sk-toggleable__label-arrow\"><div><div>StandardScaler</div></div><div><a class=\"sk-estimator-doc-link \" rel=\"noreferrer\" target=\"_blank\" href=\"https://scikit-learn.org/1.6/modules/generated/sklearn.preprocessing.StandardScaler.html\">?<span>Documentation for StandardScaler</span></a><span class=\"sk-estimator-doc-link \">i<span>Not fitted</span></span></div></label><div class=\"sk-toggleable__content \"><pre>StandardScaler()</pre></div> </div></div></div></div>"
            ]
          },
          "metadata": {},
          "execution_count": 7
        }
      ]
    },
    {
      "cell_type": "code",
      "source": [],
      "metadata": {
        "id": "YS3U8Ra3y-1W"
      },
      "execution_count": null,
      "outputs": []
    },
    {
      "cell_type": "code",
      "source": [
        "x_scaled = scaler.fit_transform(x)\n",
        "x_scaled"
      ],
      "metadata": {
        "colab": {
          "base_uri": "https://localhost:8080/"
        },
        "id": "sOOUFh7yxkc2",
        "outputId": "c59a11f8-636e-4e6f-d0ad-87be83191edc"
      },
      "execution_count": 8,
      "outputs": [
        {
          "output_type": "execute_result",
          "data": {
            "text/plain": [
              "array([[ 1.51861254, -0.5622498 ,  0.23205254, ...,  0.36217728,\n",
              "         1.84791957,  1.01300893],\n",
              "       [ 0.24628963, -0.49941338, -0.82799632, ...,  0.40605066,\n",
              "         1.1134493 ,  0.96524152],\n",
              "       [ 0.19687903,  0.02123125,  1.10933436, ...,  0.31830389,\n",
              "         0.78858745,  1.39514818],\n",
              "       ...,\n",
              "       [ 0.33275817,  1.74474449, -0.38935541, ..., -1.61212515,\n",
              "        -1.48544548,  0.28057537],\n",
              "       [ 0.20923168,  0.22769377,  0.01273209, ..., -1.56825176,\n",
              "        -1.40069891,  0.29649784],\n",
              "       [ 1.39508604,  1.58316512,  1.36520822, ..., -1.52437837,\n",
              "        -1.42894777, -0.59516041]])"
            ]
          },
          "metadata": {},
          "execution_count": 8
        }
      ]
    },
    {
      "cell_type": "code",
      "source": [
        "x_train, x_test, y_train, y_test = train_test_split(x_scaled, y, test_size=0.25, random_state=42)\n",
        "x_train, x_test, y_train, y_test"
      ],
      "metadata": {
        "colab": {
          "base_uri": "https://localhost:8080/"
        },
        "id": "BOQGhEG4xn0I",
        "outputId": "19c0ce76-ab97-45db-e6dd-17ea4d09bafe"
      },
      "execution_count": 9,
      "outputs": [
        {
          "output_type": "execute_result",
          "data": {
            "text/plain": [
              "(array([[ 0.19687903,  0.02123125,  1.10933436, ...,  0.31830389,\n",
              "          0.78858745,  1.39514818],\n",
              "        [-1.13720713, -0.23011443, -2.43634632, ...,  1.37126518,\n",
              "          0.49197446, -0.11748635],\n",
              "        [-0.71721705,  1.87939396,  1.32865481, ..., -0.16430337,\n",
              "          0.71796531, -1.21613669],\n",
              "        ...,\n",
              "        [ 1.70390229, -0.4186237 ,  0.0492855 , ...,  1.06415147,\n",
              "          0.54847218,  2.54793491],\n",
              "        [-0.38369551, -0.72382916, -0.38935541, ...,  0.01119018,\n",
              "         -0.77922407, -0.8021525 ],\n",
              "        [-0.81603824,  0.10202093,  0.34171277, ..., -0.69078402,\n",
              "          1.08520045, -0.98366865]]),\n",
              " array([[ 7.89806212e-01,  6.85501974e-01,  7.07246859e-01,\n",
              "         -1.28970717e+00,  1.14155847e+00,  6.48764240e-01,\n",
              "          1.00469996e+00, -1.54592178e+00,  1.21070982e-01,\n",
              "          1.81290590e-02,  1.11901785e-02,  1.05695159e+00,\n",
              "          3.12420304e-01],\n",
              "        [ 1.49390724e+00,  1.52930533e+00,  2.68605950e-01,\n",
              "         -1.78652700e-01,  7.90491768e-01,  8.89113972e-01,\n",
              "          6.23192602e-01, -4.98406993e-01, -5.97283511e-01,\n",
              "          7.86888566e-02, -3.83670306e-01,  1.01457831e+00,\n",
              "          1.06077633e+00],\n",
              "        [-8.72319135e-02,  4.25179662e-01,  1.21899459e+00,\n",
              "          4.51945783e-01, -2.62708342e-01, -1.20994036e+00,\n",
              "         -1.53533585e+00,  1.35488840e+00, -1.47332558e+00,\n",
              "         -1.98155932e-01, -8.22404177e-01, -4.26113366e-01,\n",
              "         -4.67780662e-01],\n",
              "        [ 9.00980058e-01, -7.50759059e-01,  1.21899459e+00,\n",
              "          9.02373272e-01,  8.83583612e-02,  1.12946370e+00,\n",
              "          1.22557264e+00, -5.78985054e-01,  1.38257156e+00,\n",
              "          2.77671049e-01,  1.02027808e+00,  1.38863760e-01,\n",
              "          1.71359755e+00],\n",
              "        [-7.78980294e-01, -1.04698790e+00, -1.63217132e+00,\n",
              "          3.15467941e-02, -1.52654847e+00, -2.96611374e-01,\n",
              "         -2.93857675e-02, -7.40141175e-01, -9.65221179e-01,\n",
              "         -1.63550334e-01,  7.13164373e-01,  1.22644473e+00,\n",
              "         -7.54385098e-01],\n",
              "        [ 1.60508109e+00, -3.73740538e-01,  1.29210141e+00,\n",
              "          1.51660791e-01,  1.42241183e+00,  8.08997395e-01,\n",
              "          1.11513630e+00, -2.56672811e-01,  6.64217062e-01,\n",
              "          4.93956040e-01,  4.93797437e-01,  5.41171910e-02,\n",
              "          1.69767508e+00],\n",
              "        [-1.23602833e+00,  9.81730812e-01, -1.33974405e+00,\n",
              "         -1.48624201e-01, -8.94628408e-01, -4.72867844e-01,\n",
              "         -3.90813788e-01,  6.56394314e-02,  4.89008649e-01,\n",
              "         -1.63428828e+00, -1.20429983e-01,  6.19094317e-01,\n",
              "         -5.82422436e-01],\n",
              "        [ 4.93342620e-01,  1.41260912e+00,  4.14819587e-01,\n",
              "          1.05251577e+00,  1.58571702e-01, -7.93334154e-01,\n",
              "         -1.28434417e+00,  5.49107795e-01, -3.16950051e-01,\n",
              "          9.69783022e-01, -1.12951789e+00, -1.48544548e+00,\n",
              "          9.89339909e-03],\n",
              "        [-1.71778167e+00, -8.85408531e-01,  1.21899459e+00,\n",
              "          1.51660791e-01, -4.03135023e-01,  7.12857502e-01,\n",
              "          8.94263617e-01, -5.78985054e-01,  1.57530081e+00,\n",
              "         -1.04166740e+00,  1.11901785e-02,  9.15707308e-01,\n",
              "         -2.13021163e-01],\n",
              "        [ 4.43932021e-01,  2.00763875e-01, -6.03747319e-02,\n",
              "          1.51660791e-01, -7.54201726e-01, -1.43426677e+00,\n",
              "         -1.53533585e+00,  6.56394314e-02, -1.66605483e+00,\n",
              "          2.34414051e-01, -1.12951789e+00, -2.00122516e-01,\n",
              "          1.05428211e-01],\n",
              "        [ 6.16869117e-01, -4.72483484e-01,  8.90013905e-01,\n",
              "          1.51660791e-01, -2.62708342e-01,  3.76367877e-01,\n",
              "          5.83033933e-01, -6.59563114e-01,  1.21070982e-01,\n",
              "         -6.65331514e-01,  7.13164373e-01,  1.70667528e+00,\n",
              "          3.12420304e-01],\n",
              "        [ 6.16869117e-01,  7.03455237e-01,  9.26567314e-01,\n",
              "          1.35280076e+00,  1.63305186e+00, -1.43426677e+00,\n",
              "         -4.61091458e-01, -1.14303148e+00, -5.97283511e-01,\n",
              "          1.53212400e+00, -1.61212515e+00, -1.85268061e+00,\n",
              "         -7.86230036e-01],\n",
              "        [ 5.05695270e-01,  1.34977270e+00, -9.01103141e-01,\n",
              "         -2.08681200e-01, -6.83988386e-01,  2.48181353e-01,\n",
              "          6.53311604e-01, -7.40141175e-01, -1.94304161e-01,\n",
              "         -3.36578327e-01, -2.08176757e-01,  5.48472176e-01,\n",
              "          9.17474115e-01],\n",
              "        [-2.84874308e-01,  9.81730812e-01, -1.41285087e+00,\n",
              "         -1.04947918e+00, -1.38612179e+00, -1.06573052e+00,\n",
              "         -7.82360809e-01,  5.49107795e-01, -1.33315885e+00,\n",
              "         -7.17239912e-01, -1.12951789e+00, -6.94477501e-01,\n",
              "         -1.19384523e+00],\n",
              "        [ 7.77453562e-01, -4.72483484e-01,  1.21899459e+00,\n",
              "         -6.89137187e-01,  8.60705108e-01,  8.89113972e-01,\n",
              "          8.84223950e-01, -4.98406993e-01, -2.29345844e-01,\n",
              "          9.69783022e-01,  1.41513857e+00,  3.78979039e-01,\n",
              "          1.79320989e+00],\n",
              "        [-5.93690549e-01,  8.40676665e-02, -7.18336096e-01,\n",
              "          4.51945783e-01, -8.24415067e-01,  4.08414508e-01,\n",
              "          2.41685247e-01, -8.20719236e-01, -6.49846035e-01,\n",
              "         -1.32283789e+00, -2.52050144e-01,  2.37734757e-01,\n",
              "         -1.34351644e+00],\n",
              "        [-1.96483466e+00, -1.43298305e+00,  4.87926405e-01,\n",
              "          4.51945783e-01, -8.24415067e-01,  2.96251299e-01,\n",
              "         -1.93461003e-02,  4.68529735e-01, -2.64387527e-01,\n",
              "         -8.55662307e-01,  6.25417599e-01, -4.26113366e-01,\n",
              "         -9.96406622e-01],\n",
              "        [-1.13720713e+00, -1.08289442e+00,  5.24479814e-01,\n",
              "          1.35280076e+00, -1.52654847e+00, -4.72867844e-01,\n",
              "         -4.51051791e-01,  3.07373613e-01, -3.34470892e-01,\n",
              "         -1.23632389e+00,  1.54675873e+00,  1.52988188e-01,\n",
              "         -3.72245850e-01],\n",
              "        [ 1.06156450e+00, -8.85408531e-01, -3.52802005e-01,\n",
              "         -1.04947918e+00, -1.22281661e-01,  1.09741707e+00,\n",
              "          1.12517596e+00, -1.14303148e+00,  4.53966967e-01,\n",
              "          9.35177423e-01,  2.30557114e-01,  1.32531572e+00,\n",
              "          9.49319052e-01],\n",
              "        [-1.13720713e+00, -8.49502005e-01,  4.87926405e-01,\n",
              "          9.02373272e-01, -1.10526843e+00,  4.24437823e-01,\n",
              "          2.61764582e-01,  5.49107795e-01, -9.65221179e-01,\n",
              "         -9.33524903e-01, -1.20429983e-01,  8.16836311e-01,\n",
              "         -1.15244682e+00],\n",
              "        [ 1.46920194e+00, -6.69969376e-01,  4.14819587e-01,\n",
              "         -8.99336682e-01,  5.79851746e-01,  1.61016317e+00,\n",
              "          1.90827001e+00, -3.37250872e-01,  4.71487808e-01,\n",
              "          1.57538100e+00,  1.19577163e+00,  2.94232470e-01,\n",
              "          2.97147258e+00],\n",
              "        [ 1.35115780e-01, -1.19061400e+00, -2.43634632e+00,\n",
              "         -1.34976417e+00, -1.52654847e+00,  1.09741707e+00,\n",
              "          1.15529496e+00, -8.20719236e-01,  1.20736314e+00,\n",
              "          1.04643056e-01,  7.13164373e-01,  8.02711883e-01,\n",
              "         -7.79861048e-01],\n",
              "        [-8.28390893e-01, -1.10982432e+00, -3.16248596e-01,\n",
              "         -1.04947918e+00,  8.83583612e-02, -3.92751267e-01,\n",
              "         -9.42995485e-01,  2.16066901e+00, -2.06903418e+00,\n",
              "         -7.73474010e-01,  1.28351841e+00, -1.33007677e+00,\n",
              "         -2.13021163e-01],\n",
              "        [ 4.93342620e-01,  2.03199669e+00,  1.80384913e+00,\n",
              "          1.65308575e+00,  8.60705108e-01, -5.04914475e-01,\n",
              "         -1.07351116e+00, -7.40141175e-01, -8.42575290e-01,\n",
              "          1.48886700e+00, -1.26113805e+00, -9.76966064e-01,\n",
              "         -3.72245850e-01],\n",
              "        [-2.84874308e-01,  4.81611407e-02, -3.16248596e-01,\n",
              "          1.51829490e-03, -9.64841748e-01, -1.45029009e+00,\n",
              "         -1.52529618e+00,  9.51998098e-01, -1.66605483e+00,\n",
              "          2.09446454e+00, -1.69987192e+00, -1.38657448e+00,\n",
              "         -8.81764848e-01],\n",
              "        [ 9.62743307e-01,  3.80296505e-01, -2.43141777e-01,\n",
              "          7.52230776e-01, -6.83988386e-01, -1.51438335e+00,\n",
              "         -1.35462184e+00,  3.87951674e-01, -9.82742020e-01,\n",
              "          1.95604258e+00, -1.12951789e+00, -1.31595234e+00,\n",
              "         -4.20013256e-01],\n",
              "        [-7.17217046e-01, -6.52016113e-01, -6.45229278e-01,\n",
              "          9.02373272e-01,  5.79851746e-01, -4.72867844e-01,\n",
              "          6.09712375e-02, -1.76094750e-01,  3.34667755e-02,\n",
              "         -1.29688369e+00,  4.49924050e-01,  4.91974464e-01,\n",
              "         -1.27982657e+00],\n",
              "        [-7.78980294e-01, -1.01108137e+00,  7.07246859e-01,\n",
              "         -4.18880694e-01, -1.22281661e-01,  2.00111406e-01,\n",
              "          6.23192602e-01,  6.56394314e-02,  8.56946317e-01,\n",
              "         -1.98155932e-01,  1.02027808e+00, -4.40237794e-01,\n",
              "         -2.19390150e-01],\n",
              "        [-1.13720713e+00, -4.54530221e-01, -1.70034959e-01,\n",
              "         -2.98766697e-01, -1.31590845e+00, -1.11380046e+00,\n",
              "         -5.31369129e-01,  1.27431034e+00,  8.60292994e-02,\n",
              "         -1.14980989e+00,  5.37670824e-01, -4.82611079e-01,\n",
              "         -8.49919910e-01],\n",
              "        [ 6.90985014e-01, -5.44296535e-01,  3.41712768e-01,\n",
              "          3.01803287e-01,  1.14155847e+00,  1.06537044e+00,\n",
              "          7.53708276e-01, -1.30418760e+00,  1.50521744e+00,\n",
              "          5.15584539e-01,  9.89369528e-02,  5.90845461e-01,\n",
              "          1.18815608e+00],\n",
              "        [ 1.25920690e+00, -5.89179693e-01, -5.72122459e-01,\n",
              "         -1.04947918e+00, -2.62708342e-01,  5.68647662e-01,\n",
              "          3.01923251e-01, -8.20719236e-01,  6.81737904e-01,\n",
              "         -1.54898934e-01,  3.62177276e-01,  1.38181344e+00,\n",
              "          9.17474115e-01],\n",
              "        [-7.78980294e-01, -6.34062850e-01, -2.43141777e-01,\n",
              "          1.50294326e+00, -8.24415067e-01, -1.20354903e-01,\n",
              "          4.22399258e-01,  3.07373613e-01,  5.41571173e-01,\n",
              "         -1.27092949e+00, -2.95923532e-01,  2.37734757e-01,\n",
              "         -1.28938005e+00],\n",
              "        [ 1.96879028e-01,  1.10740365e+00, -7.91442914e-01,\n",
              "          4.51945783e-01,  1.58571702e-01, -1.27403362e+00,\n",
              "         -1.48513751e+00,  5.49107795e-01, -5.09679305e-01,\n",
              "         -4.57697922e-01, -1.56825176e+00, -1.31595234e+00,\n",
              "          2.64652898e-01],\n",
              "        [ 7.15690314e-01, -6.07132956e-01, -2.38213228e-02,\n",
              "         -1.18595702e-01,  4.39425064e-01,  9.05137288e-01,\n",
              "          1.16533463e+00, -1.14303148e+00,  6.29175380e-01,\n",
              "          7.96755028e-01,  5.81544212e-01,  3.78979039e-01,\n",
              "          2.44603111e+00],\n",
              "        [ 9.25685358e-01, -5.44296535e-01,  1.58945723e-01,\n",
              "         -1.04947918e+00, -7.54201726e-01,  4.88531085e-01,\n",
              "          7.33628941e-01, -5.78985054e-01,  3.83883602e-01,\n",
              "          2.34414051e-01,  8.44784535e-01,  4.07227895e-01,\n",
              "          1.82505483e+00],\n",
              "        [ 1.08626980e+00, -4.00670432e-01,  8.16907087e-01,\n",
              "         -1.34976417e+00,  8.83583612e-02,  1.53004659e+00,\n",
              "          1.53680232e+00, -1.54592178e+00,  1.91154347e-01,\n",
              "          1.60877153e-01, -3.39796919e-01,  1.33944015e+00,\n",
              "          1.10854374e+00],\n",
              "        [ 1.65449169e+00, -5.89179693e-01,  1.21899459e+00,\n",
              "          1.65308575e+00, -1.22281661e-01,  8.08997395e-01,\n",
              "         -7.22122806e-01,  1.35488840e+00,  1.94323848e+00,\n",
              "          3.43543192e+00, -1.69987192e+00, -9.20468352e-01,\n",
              "         -2.76711037e-01],\n",
              "        [-5.81337900e-01,  2.84887015e+00,  9.99674132e-01,\n",
              "          1.65308575e+00, -2.62708342e-01, -8.09357469e-01,\n",
              "         -1.43493918e+00,  2.16066901e+00, -8.60096131e-01,\n",
              "         -2.51279393e-02, -6.03037242e-01, -1.30182791e+00,\n",
              "         -7.38462629e-01],\n",
              "        [-7.78980294e-01, -1.13675421e+00, -9.74209960e-01,\n",
              "         -2.98766697e-01, -8.24415067e-01,  1.96267611e+00,\n",
              "          1.72755600e+00, -9.81875357e-01,  6.29175380e-01,\n",
              "         -2.41412931e-01,  3.62177276e-01,  2.23610329e-01,\n",
              "         -2.76711037e-01],\n",
              "        [ 5.92163817e-01, -5.98156324e-01,  9.99674132e-01,\n",
              "          9.02373272e-01, -7.54201726e-01,  4.88531085e-01,\n",
              "         -9.32955818e-01,  1.27431034e+00,  1.22488398e+00,\n",
              "          2.89471945e+00, -1.69987192e+00, -1.17470806e+00,\n",
              "         -4.04090787e-01],\n",
              "        [ 8.57051816e-02, -7.50759059e-01, -9.74209960e-01,\n",
              "         -1.19962167e+00, -1.22281661e-01,  1.68064775e-01,\n",
              "          6.13152935e-01, -6.59563114e-01, -3.87033416e-01,\n",
              "         -5.87468917e-01,  9.76404696e-01,  1.10614904e-01,\n",
              "          8.69706709e-01],\n",
              "        [-9.64270039e-01, -9.39268319e-01, -1.55906451e+00,\n",
              "         -1.48624201e-01, -5.43561704e-01,  1.03971513e-01,\n",
              "          1.07729013e-02,  2.26795553e-01,  8.56946317e-01,\n",
              "         -1.02003890e+00, -4.27543693e-01,  5.76721033e-01,\n",
              "         -1.38491486e+00],\n",
              "        [-4.08400804e-01, -1.21754389e+00, -4.62462232e-01,\n",
              "         -4.48909194e-01, -5.20683200e-02, -1.52401534e-01,\n",
              "         -8.96237709e-02, -4.98406993e-01, -2.29345844e-01,\n",
              "         -1.05464450e+00,  1.19577163e+00,  7.74463027e-01,\n",
              "         -9.45454722e-01],\n",
              "        [ 4.19226722e-01, -1.25345042e+00, -2.38213228e-02,\n",
              "         -7.49194186e-01,  7.20278427e-01,  3.76367877e-01,\n",
              "         -7.32162473e-01,  1.51604452e+00, -2.05151334e+00,\n",
              "         -8.16731008e-01,  2.74430501e-01, -9.62841636e-01,\n",
              "          9.89339909e-03],\n",
              "        [ 7.65100912e-01,  2.34617879e+00, -6.03747319e-02,\n",
              "          1.51660791e-01, -5.43561704e-01, -4.72867844e-01,\n",
              "         -1.23414583e+00,  8.71420038e-01, -1.00026286e+00,\n",
              "         -2.84669929e-01, -2.08176757e-01, -7.93348498e-01,\n",
              "         -6.27005349e-01]]),\n",
              " array([0, 1, 1, 2, 0, 1, 0, 0, 2, 2, 1, 1, 0, 1, 0, 2, 1, 1, 2, 0, 0, 0,\n",
              "        2, 0, 0, 1, 2, 1, 0, 2, 1, 0, 2, 1, 1, 0, 1, 0, 0, 1, 0, 0, 2, 1,\n",
              "        1, 1, 0, 1, 1, 1, 2, 2, 0, 1, 2, 2, 1, 1, 0, 1, 2, 2, 1, 2, 1, 1,\n",
              "        1, 0, 0, 2, 0, 2, 0, 0, 1, 1, 0, 0, 0, 1, 0, 1, 2, 1, 1, 1, 2, 2,\n",
              "        1, 0, 0, 1, 2, 2, 0, 1, 2, 2, 2, 2, 1, 0, 1, 0, 2, 0, 0, 1, 0, 0,\n",
              "        2, 1, 0, 2, 2, 0, 0, 2, 2, 2, 1, 1, 1, 1, 1, 1, 2, 0, 1, 1, 0, 1,\n",
              "        1]),\n",
              " array([0, 0, 2, 0, 1, 0, 1, 2, 1, 2, 0, 2, 0, 1, 0, 1, 1, 1, 0, 1, 0, 1,\n",
              "        1, 2, 2, 2, 1, 1, 1, 0, 0, 1, 2, 0, 0, 0, 2, 2, 1, 2, 0, 1, 1, 1,\n",
              "        2]))"
            ]
          },
          "metadata": {},
          "execution_count": 9
        }
      ]
    },
    {
      "cell_type": "code",
      "source": [
        "n_features = x.shape[1]\n",
        "n_features"
      ],
      "metadata": {
        "colab": {
          "base_uri": "https://localhost:8080/"
        },
        "id": "RB-rZBkd2Us1",
        "outputId": "dc3d0bb8-591b-4959-8886-1dafe6efa95d"
      },
      "execution_count": 13,
      "outputs": [
        {
          "output_type": "execute_result",
          "data": {
            "text/plain": [
              "13"
            ]
          },
          "metadata": {},
          "execution_count": 13
        }
      ]
    },
    {
      "cell_type": "markdown",
      "source": [
        "Binary Perceptron"
      ],
      "metadata": {
        "id": "AzS1aVp50mM7"
      }
    },
    {
      "cell_type": "code",
      "source": [
        "class percepton:\n",
        "  def _inti_(self, learning_rate=0.01, epochs=1000):\n",
        "    self.learning_rate = learning_rate\n",
        "    self.epochs = epochs\n",
        "    self.weights = np.zeros(n_features+1)   # +1 for bias term\n",
        "\n",
        "  def predict(self, x):\n",
        "    x_bias = np.insert(x, 0, 1, axis=1)    # add bias term\n",
        "    linear_output = np.dot(x_bias, self.weights)\n",
        "    return np.where(linear_output >= 0, 1, 0)\n",
        "\n",
        "  def train(self, x, y):\n",
        "    x_bias = np.insert(x, 0, 1, axis=1)\n",
        "    for _ in range(self.epochs):\n",
        "      for xi, target in zip(x_bias, y):\n",
        "        output = np.dot(xi, self.weights)\n",
        "        prediction = 1 if output >= 0 else 0\n",
        "        error = target - prediction\n",
        "        self.weights += self.learning_rate * error * xi"
      ],
      "metadata": {
        "id": "PL4Cq2YJzJP_"
      },
      "execution_count": 14,
      "outputs": []
    },
    {
      "cell_type": "markdown",
      "source": [
        "Multiclass perceptron : Using One vs All"
      ],
      "metadata": {
        "id": "TYtMuQkT0o3e"
      }
    },
    {
      "cell_type": "code",
      "source": [
        "class multiclassperceptron:\n",
        "  def _init_ (self, n_features, lr = 0.01, epochs=1000):\n",
        "    self.models = [Perceptron(lr, epochs) for _ in range(3)]\n",
        "  def"
      ],
      "metadata": {
        "id": "HceQXOo3z1-U"
      },
      "execution_count": null,
      "outputs": []
    },
    {
      "cell_type": "code",
      "source": [
        "!git config --global user.email \"shubham30p@gmail.com\""
      ],
      "metadata": {
        "id": "UsSdXbXrAqw0"
      },
      "execution_count": 1,
      "outputs": []
    },
    {
      "cell_type": "code",
      "source": [
        "!git config --global user.name \"ShubhamP1028\""
      ],
      "metadata": {
        "id": "iWWPol78Au3n"
      },
      "execution_count": 2,
      "outputs": []
    },
    {
      "cell_type": "code",
      "source": [
        "!git clone https://github.com/ShubhamP1028/DeepLearningTute.git"
      ],
      "metadata": {
        "colab": {
          "base_uri": "https://localhost:8080/"
        },
        "id": "jg-hB1DJA2Dw",
        "outputId": "f0bd10bf-043a-4383-c6a3-9c81586c9f18"
      },
      "execution_count": 3,
      "outputs": [
        {
          "output_type": "stream",
          "name": "stdout",
          "text": [
            "Cloning into 'DeepLearningTute'...\n",
            "remote: Enumerating objects: 3, done.\u001b[K\n",
            "remote: Counting objects: 100% (3/3), done.\u001b[K\n",
            "remote: Total 3 (delta 0), reused 0 (delta 0), pack-reused 0 (from 0)\u001b[K\n",
            "Receiving objects: 100% (3/3), done.\n"
          ]
        }
      ]
    },
    {
      "cell_type": "code",
      "source": [
        "%cd DeepLearningTute"
      ],
      "metadata": {
        "colab": {
          "base_uri": "https://localhost:8080/"
        },
        "id": "47IAgHGgA5MM",
        "outputId": "d2c33071-862c-402b-e413-8c672e69c2a1"
      },
      "execution_count": 4,
      "outputs": [
        {
          "output_type": "stream",
          "name": "stdout",
          "text": [
            "/content/DeepLearningTute\n"
          ]
        }
      ]
    },
    {
      "cell_type": "code",
      "source": [
        "!cp /content/Pract1.ipynb /content/DeepLearningTute/"
      ],
      "metadata": {
        "colab": {
          "base_uri": "https://localhost:8080/"
        },
        "id": "CuoAszGVA_QO",
        "outputId": "b071d17e-5551-4120-88df-8a39a533f482"
      },
      "execution_count": 5,
      "outputs": [
        {
          "output_type": "stream",
          "name": "stdout",
          "text": [
            "cp: cannot stat '/content/Pract1.ipynb': No such file or directory\n"
          ]
        }
      ]
    },
    {
      "cell_type": "code",
      "source": [
        "!git add Pract1.ipynb"
      ],
      "metadata": {
        "colab": {
          "base_uri": "https://localhost:8080/"
        },
        "id": "qDfV1X9sBQSq",
        "outputId": "3ed3154a-49c4-4e67-a0d4-ecc1d070e2eb"
      },
      "execution_count": 7,
      "outputs": [
        {
          "output_type": "stream",
          "name": "stdout",
          "text": [
            "fatal: pathspec 'Pract1.ipynb' did not match any files\n"
          ]
        }
      ]
    },
    {
      "cell_type": "code",
      "source": [
        "%cd .."
      ],
      "metadata": {
        "colab": {
          "base_uri": "https://localhost:8080/"
        },
        "id": "db1uJ4sQBf-B",
        "outputId": "8ef3a1d6-605b-4fa5-9103-b2cd27c561cb"
      },
      "execution_count": 8,
      "outputs": [
        {
          "output_type": "stream",
          "name": "stdout",
          "text": [
            "/content\n"
          ]
        }
      ]
    },
    {
      "cell_type": "code",
      "source": [
        "!dir"
      ],
      "metadata": {
        "colab": {
          "base_uri": "https://localhost:8080/"
        },
        "id": "8AUaWIDYBtWk",
        "outputId": "f30307c6-9e94-49c3-cce8-a9d89782e248"
      },
      "execution_count": 9,
      "outputs": [
        {
          "output_type": "stream",
          "name": "stdout",
          "text": [
            "DeepLearningTute  sample_data\n"
          ]
        }
      ]
    },
    {
      "cell_type": "code",
      "source": [
        "!cp /content/Pract1.ipynb /content/DeepLearningTute/"
      ],
      "metadata": {
        "colab": {
          "base_uri": "https://localhost:8080/"
        },
        "id": "6HGlFDMiByI7",
        "outputId": "50ade4c2-a618-45cf-83c7-a0977be36d23"
      },
      "execution_count": 10,
      "outputs": [
        {
          "output_type": "stream",
          "name": "stdout",
          "text": [
            "cp: cannot stat '/content/Pract1.ipynb': No such file or directory\n"
          ]
        }
      ]
    },
    {
      "cell_type": "code",
      "source": [],
      "metadata": {
        "id": "_Jq1EFGLDeSF"
      },
      "execution_count": null,
      "outputs": []
    }
  ]
}