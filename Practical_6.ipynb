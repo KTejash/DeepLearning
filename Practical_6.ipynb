{
  "cells": [
    {
      "cell_type": "markdown",
      "id": "b80d7a24-bb51-4fe9-b2ab-e9466f80ba4e",
      "metadata": {
        "id": "b80d7a24-bb51-4fe9-b2ab-e9466f80ba4e"
      },
      "source": [
        "### Write a program to analyze how does the choice of activation functions affect the dimensions and learning of weight matrices."
      ]
    },
    {
      "cell_type": "code",
      "execution_count": null,
      "id": "6384c1fd-46e9-4302-92af-232660d05fe8",
      "metadata": {
        "id": "6384c1fd-46e9-4302-92af-232660d05fe8"
      },
      "outputs": [],
      "source": [
        "import numpy as np\n",
        "import matplotlib.pyplot as plt\n",
        "\n",
        "# ------------------------------\n",
        "# 1. Activation Functions\n",
        "# ------------------------------\n",
        "def sigmoid(x):\n",
        "    return 1 / (1 + np.exp(-x))\n",
        "\n",
        "def relu(x):\n",
        "    return np.maximum(0, x)\n",
        "\n",
        "def tanh(x):\n",
        "    return np.tanh(x)"
      ]
    },
    {
      "cell_type": "code",
      "execution_count": null,
      "id": "2fc2e151-5a50-4a59-857f-2ee1357754b1",
      "metadata": {
        "id": "2fc2e151-5a50-4a59-857f-2ee1357754b1"
      },
      "outputs": [],
      "source": [
        "# ------------------------------\n",
        "# 2. Initialize random weights and biases\n",
        "# ------------------------------\n",
        "np.random.seed(42)  # reproducibility\n",
        "input_dim = 3\n",
        "hidden_dim = 4\n",
        "output_dim = 2\n",
        "\n",
        "W1 = np.random.randn(input_dim, hidden_dim)\n",
        "b1 = np.random.randn(hidden_dim)\n",
        "W2 = np.random.randn(hidden_dim, output_dim)\n",
        "b2 = np.random.randn(output_dim)"
      ]
    },
    {
      "cell_type": "code",
      "execution_count": null,
      "id": "00d90eb1-4d36-401c-8be7-8304e4646cf5",
      "metadata": {
        "id": "00d90eb1-4d36-401c-8be7-8304e4646cf5",
        "outputId": "d91750fa-a12f-45af-e8ea-b293a584a270"
      },
      "outputs": [
        {
          "data": {
            "text/plain": [
              "array([[ 0.49671415, -0.1382643 ,  0.64768854,  1.52302986],\n",
              "       [-0.23415337, -0.23413696,  1.57921282,  0.76743473],\n",
              "       [-0.46947439,  0.54256004, -0.46341769, -0.46572975]])"
            ]
          },
          "execution_count": 4,
          "metadata": {},
          "output_type": "execute_result"
        }
      ],
      "source": [
        "W1"
      ]
    },
    {
      "cell_type": "code",
      "execution_count": null,
      "id": "e3b60239-665c-449b-b866-1f40c7ad0993",
      "metadata": {
        "id": "e3b60239-665c-449b-b866-1f40c7ad0993",
        "outputId": "2c8bc8d3-430e-4e25-f3d1-05ebaa4b08ac"
      },
      "outputs": [
        {
          "data": {
            "text/plain": [
              "array([ 0.24196227, -1.91328024, -1.72491783, -0.56228753])"
            ]
          },
          "execution_count": 5,
          "metadata": {},
          "output_type": "execute_result"
        }
      ],
      "source": [
        "b1"
      ]
    },
    {
      "cell_type": "code",
      "execution_count": null,
      "id": "c080cb1b-f286-48c3-a7b3-c4dc54f80c73",
      "metadata": {
        "id": "c080cb1b-f286-48c3-a7b3-c4dc54f80c73",
        "outputId": "19a0dfec-501a-4141-8f3f-3918fa57e8b2"
      },
      "outputs": [
        {
          "data": {
            "text/plain": [
              "array([[-1.01283112,  0.31424733],\n",
              "       [-0.90802408, -1.4123037 ],\n",
              "       [ 1.46564877, -0.2257763 ],\n",
              "       [ 0.0675282 , -1.42474819]])"
            ]
          },
          "execution_count": 6,
          "metadata": {},
          "output_type": "execute_result"
        }
      ],
      "source": [
        "W2"
      ]
    },
    {
      "cell_type": "code",
      "execution_count": null,
      "id": "612e2af1-408e-4e1a-bb03-3255289d2974",
      "metadata": {
        "id": "612e2af1-408e-4e1a-bb03-3255289d2974",
        "outputId": "0a602974-7619-4e29-942c-eab22bb9fbcf"
      },
      "outputs": [
        {
          "data": {
            "text/plain": [
              "array([-0.54438272,  0.11092259])"
            ]
          },
          "execution_count": 7,
          "metadata": {},
          "output_type": "execute_result"
        }
      ],
      "source": [
        "b2"
      ]
    },
    {
      "cell_type": "code",
      "execution_count": null,
      "id": "ca68a8a4-0a93-4f18-a200-c9f4c81cf666",
      "metadata": {
        "id": "ca68a8a4-0a93-4f18-a200-c9f4c81cf666"
      },
      "outputs": [],
      "source": [
        "# ------------------------------\n",
        "# 3. Sample input data\n",
        "# ------------------------------\n",
        "X = np.array([[0.5, -0.2, 0.1],\n",
        "              [1.5,  2.3, -1.2],\n",
        "              [-0.3, 0.8, 0.5]])"
      ]
    },
    {
      "cell_type": "code",
      "execution_count": null,
      "id": "bb9f654a-32fe-4776-a8f6-f6d3595d6fbd",
      "metadata": {
        "id": "bb9f654a-32fe-4776-a8f6-f6d3595d6fbd",
        "outputId": "387df520-2cd2-415d-971d-a8527834dfe5"
      },
      "outputs": [
        {
          "data": {
            "text/plain": [
              "array([[ 0.5, -0.2,  0.1],\n",
              "       [ 1.5,  2.3, -1.2],\n",
              "       [-0.3,  0.8,  0.5]])"
            ]
          },
          "execution_count": 9,
          "metadata": {},
          "output_type": "execute_result"
        }
      ],
      "source": [
        "X"
      ]
    },
    {
      "cell_type": "code",
      "execution_count": null,
      "id": "b4305e50-dbec-4ca9-90ee-4943c3e304b0",
      "metadata": {
        "id": "b4305e50-dbec-4ca9-90ee-4943c3e304b0",
        "outputId": "bca0846e-4ec4-4a08-e335-f2aca3ef0ab0"
      },
      "outputs": [
        {
          "name": "stdout",
          "output_type": "stream",
          "text": [
            "\n",
            "Activation: Sigmoid\n",
            "Layer 1 output (a1):\n",
            " [[0.62015415 0.1322363  0.14638278 0.49979187]\n",
            " [0.73338204 0.03522076 0.96877779 0.98281245]\n",
            " [0.41845674 0.14333892 0.291613   0.34567309]]\n",
            "Layer 2 output (final):\n",
            " [[-1.0442721  -0.62608075]\n",
            " [ 0.16709937 -1.32734378]\n",
            " [-0.647619   -0.51835299]]\n",
            "\n",
            "Activation: ReLU\n",
            "Layer 1 output (a1):\n",
            " [[0.49020258 0.         0.         0.        ]\n",
            " [1.01185    0.         3.43490568 4.04623284]\n",
            " [0.         0.         0.         0.        ]]\n",
            "Layer 2 output (final):\n",
            " [[-1.04087516  0.26496744]\n",
            " [ 3.73838423 -6.11148944]\n",
            " [-0.54438272  0.11092259]]\n",
            "\n",
            "Activation: Tanh\n",
            "Layer 1 output (a1):\n",
            " [[ 4.54377207e-01 -9.54610171e-01 -9.42865761e-01 -8.32522032e-04]\n",
            " [ 7.66526112e-01 -9.97338092e-01  9.97924809e-01  9.99388518e-01]\n",
            " [-3.17722524e-01 -9.45531133e-01 -7.10187957e-01 -5.63613742e-01]]\n",
            "Layer 2 output (final):\n",
            " [[-1.51974734  1.81597177]\n",
            " [ 1.11495695  0.11116091]\n",
            " [-0.44296436  2.30980752]]\n"
          ]
        }
      ],
      "source": [
        "# ------------------------------\n",
        "# 4. Feedforward for different activations\n",
        "# ------------------------------\n",
        "activations = {\"Sigmoid\": sigmoid, \"ReLU\": relu, \"Tanh\": tanh}\n",
        "outputs = {}\n",
        "\n",
        "for name, func in activations.items():\n",
        "    z1 = np.dot(X, W1) + b1\n",
        "    a1 = func(z1)\n",
        "    z2 = np.dot(a1, W2) + b2\n",
        "    outputs[name] = z2\n",
        "    print(f\"\\nActivation: {name}\")\n",
        "    print(\"Layer 1 output (a1):\\n\", a1)\n",
        "    print(\"Layer 2 output (final):\\n\", z2)"
      ]
    },
    {
      "cell_type": "code",
      "execution_count": null,
      "id": "59c08f78-7289-416d-92d4-231e2c1f2977",
      "metadata": {
        "id": "59c08f78-7289-416d-92d4-231e2c1f2977",
        "outputId": "9e24342d-123f-4f2b-bdee-e16f3d32b61e"
      },
      "outputs": [
        {
          "data": {
            "image/png": "[encoded data removed]",
            "text/plain": [
              "<Figure size 800x500 with 1 Axes>"
            ]
          },
          "metadata": {},
          "output_type": "display_data"
        }
      ],
      "source": [
        "# ------------------------------\n",
        "# 5. Visualization of outputs\n",
        "# ------------------------------\n",
        "plt.figure(figsize=(8, 5))\n",
        "for name, out in outputs.items():\n",
        "    plt.plot(out.flatten(), label=name, marker='o')\n",
        "plt.title(\"Effect of Activation Function on Final Output\")\n",
        "plt.xlabel(\"Neuron Index\")\n",
        "plt.ylabel(\"Output Value\")\n",
        "plt.legend()\n",
        "plt.show()"
      ]
    },
    {
      "cell_type": "code",
      "execution_count": null,
      "id": "50a53abc-40d5-441a-90fc-fd346cd3853f",
      "metadata": {
        "id": "50a53abc-40d5-441a-90fc-fd346cd3853f"
      },
      "outputs": [],
      "source": []
    }
  ],
  "metadata": {
    "kernelspec": {
      "display_name": "Python 3 (ipykernel)",
      "language": "python",
      "name": "python3"
    },
    "language_info": {
      "codemirror_mode": {
        "name": "ipython",
        "version": 3
      },
      "file_extension": ".py",
      "mimetype": "text/x-python",
      "name": "python",
      "nbconvert_exporter": "python",
      "pygments_lexer": "ipython3",
      "version": "3.11.4"
    },
    "colab": {
      "provenance": []
    }
  },
  "nbformat": 4,
  "nbformat_minor": 5
}