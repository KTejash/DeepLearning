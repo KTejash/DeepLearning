{
  "nbformat": 4,
  "nbformat_minor": 0,
  "metadata": {
    "colab": {
      "provenance": [],
      "authorship_tag": "ABX9TyP9T9P2SdGxLF6fIiEPODC6",
      "include_colab_link": true
    },
    "kernelspec": {
      "name": "python3",
      "display_name": "Python 3"
    },
    "language_info": {
      "name": "python"
    }
  },
  "cells": [
    {
      "cell_type": "markdown",
      "metadata": {
        "id": "view-in-github",
        "colab_type": "text"
      },
      "source": [
        "<a href=\"https://colab.research.google.com/github/ShubhamP1028/DeepLearningTute/blob/main/mini_NeuronNetwork.ipynb\" target=\"_parent\"><img src=\"https://colab.research.google.com/assets/colab-badge.svg\" alt=\"Open In Colab\"/></a>"
      ]
    },
    {
      "cell_type": "markdown",
      "source": [
        "### Multilayer mini neural network\n",
        "\n",
        "\n",
        "Input → Hidden Layer (ReLU) → Output Layer (Sigmoid) → Final Output"
      ],
      "metadata": {
        "id": "QsQ16kjI5O37"
      }
    },
    {
      "cell_type": "code",
      "execution_count": 2,
      "metadata": {
        "id": "hFxNFmjjqjWI"
      },
      "outputs": [],
      "source": [
        "# Activation func\n",
        "import numpy as np\n",
        "\n",
        "def sigmoid(x):\n",
        "    return 1 / (1 + np.exp(-x))\n",
        "\n",
        "def relu(x):\n",
        "    return np.maximum(0, x)\n",
        "def softmax(x):\n",
        "    return np.exp(x) / np.sum(np.exp(x), axis=0)"
      ]
    },
    {
      "cell_type": "markdown",
      "source": [
        "Expandable  Layer Class"
      ],
      "metadata": {
        "id": "LjSL3vjF7_RF"
      }
    },
    {
      "cell_type": "code",
      "source": [
        "class DenseLayer:\n",
        "    def __init__(self, n_inputs, n_neurons, activation='relu'):\n",
        "        self.weights = np.random.randn(n_neurons, n_inputs)\n",
        "        self.biases = np.random.randn(n_neurons)\n",
        "        self.activation = activation\n",
        "\n",
        "    def activate(self, x):\n",
        "        if self.activation == 'sigmoid':\n",
        "            return sigmoid(x)\n",
        "        elif self.activation == 'relu':\n",
        "            return relu(x)\n",
        "        else:\n",
        "            return x  # Linear if nothing else\n",
        "\n",
        "    def forward(self, inputs):\n",
        "        self.z = np.dot(self.weights, inputs) + self.biases\n",
        "        return self.activate(self.z)\n"
      ],
      "metadata": {
        "id": "ite16zTQ7Lck"
      },
      "execution_count": 5,
      "outputs": []
    },
    {
      "cell_type": "markdown",
      "source": [
        " Connected Layers = Mini Neural Network"
      ],
      "metadata": {
        "id": "VvSpSc9Z_OV5"
      }
    },
    {
      "cell_type": "code",
      "source": [
        "# Input (example: 2 features)\n",
        "input_data = np.array([0.6, 0.9])"
      ],
      "metadata": {
        "id": "0b5SMdiR_RMI"
      },
      "execution_count": 6,
      "outputs": []
    },
    {
      "cell_type": "code",
      "source": [
        "# Layer 1: 3 neurons, ReLU\n",
        "hidden_layer = DenseLayer(n_inputs=2, n_neurons=3, activation='relu')\n",
        "hidden_output = hidden_layer.forward(input_data)"
      ],
      "metadata": {
        "id": "YaMNpHJ3_Voo"
      },
      "execution_count": 7,
      "outputs": []
    },
    {
      "cell_type": "code",
      "source": [
        "# Layer 2: 1 neuron, Sigmoid\n",
        "output_layer = DenseLayer(n_inputs=3, n_neurons=1, activation='sigmoid')\n",
        "final_output = output_layer.forward(hidden_output)"
      ],
      "metadata": {
        "id": "1LJgF-ci_YYw"
      },
      "execution_count": 8,
      "outputs": []
    },
    {
      "cell_type": "code",
      "source": [
        "print(\"Final output :\", final_output)"
      ],
      "metadata": {
        "colab": {
          "base_uri": "https://localhost:8080/"
        },
        "id": "httYA5vS_lRM",
        "outputId": "3bf9fc59-115e-4614-9d50-3272851e5934"
      },
      "execution_count": 9,
      "outputs": [
        {
          "output_type": "stream",
          "name": "stdout",
          "text": [
            "Final output : [0.03641853]\n"
          ]
        }
      ]
    },
    {
      "cell_type": "code",
      "source": [],
      "metadata": {
        "id": "mq7UsZPt_s7C"
      },
      "execution_count": null,
      "outputs": []
    },
    {
      "cell_type": "markdown",
      "source": [
        "Mini Neural Network using Keras"
      ],
      "metadata": {
        "id": "DCFLN17xAW_6"
      }
    },
    {
      "cell_type": "code",
      "source": [
        "import numpy as np\n",
        "from tensorflow.keras.models import Sequential\n",
        "from tensorflow.keras.layers import Dense\n",
        "\n",
        "# 1️⃣ Sample training data (XOR style logic)\n",
        "X = np.array([\n",
        "    [0, 0],\n",
        "    [0, 1],\n",
        "    [1, 0],\n",
        "    [1, 1]\n",
        "])\n",
        "\n",
        "y = np.array([\n",
        "    [0],\n",
        "    [1],\n",
        "    [1],\n",
        "    [0]\n",
        "])\n"
      ],
      "metadata": {
        "id": "ToN9jsTWAa5T"
      },
      "execution_count": 1,
      "outputs": []
    },
    {
      "cell_type": "markdown",
      "source": [
        "Build the Model (Multi-layer, mini net)"
      ],
      "metadata": {
        "id": "53STKbNm_1dV"
      }
    },
    {
      "cell_type": "code",
      "source": [
        "model = Sequential([\n",
        "    Dense(units=3, activation='relu', input_shape=(2,)),  # Hidden layer\n",
        "    Dense(units=1, activation='sigmoid')                  # Output layer\n",
        "])\n"
      ],
      "metadata": {
        "colab": {
          "base_uri": "https://localhost:8080/"
        },
        "id": "gdqS9wxv_csq",
        "outputId": "11556d78-682a-4388-f139-fea10eff1f79"
      },
      "execution_count": 2,
      "outputs": [
        {
          "output_type": "stream",
          "name": "stderr",
          "text": [
            "/usr/local/lib/python3.11/dist-packages/keras/src/layers/core/dense.py:87: UserWarning: Do not pass an `input_shape`/`input_dim` argument to a layer. When using Sequential models, prefer using an `Input(shape)` object as the first layer in the model instead.\n",
            "  super().__init__(activity_regularizer=activity_regularizer, **kwargs)\n"
          ]
        }
      ]
    },
    {
      "cell_type": "markdown",
      "source": [
        "Compile the Model"
      ],
      "metadata": {
        "id": "cvUk8ajQ_5iX"
      }
    },
    {
      "cell_type": "code",
      "source": [
        "model.compile(optimizer='adam', loss='binary_crossentropy', metrics=['accuracy'])"
      ],
      "metadata": {
        "id": "V0XUdOmo_vd_"
      },
      "execution_count": 3,
      "outputs": []
    },
    {
      "cell_type": "markdown",
      "source": [
        "Train the Model (Fit)"
      ],
      "metadata": {
        "id": "x-6d_qHU_9eH"
      }
    },
    {
      "cell_type": "code",
      "source": [
        "model.fit(X, y, epochs=500, verbose=0)  # verbose=1 to watch training"
      ],
      "metadata": {
        "colab": {
          "base_uri": "https://localhost:8080/"
        },
        "id": "SPTgfCbT_-OV",
        "outputId": "e10db45d-f334-459a-f45b-59f0ce49c7c4"
      },
      "execution_count": 4,
      "outputs": [
        {
          "output_type": "execute_result",
          "data": {
            "text/plain": [
              "<keras.src.callbacks.history.History at 0x7e79832e2c10>"
            ]
          },
          "metadata": {},
          "execution_count": 4
        }
      ]
    },
    {
      "cell_type": "markdown",
      "source": [
        "Predictions"
      ],
      "metadata": {
        "id": "TbOxNk3dACIY"
      }
    },
    {
      "cell_type": "code",
      "source": [
        "predictions = model.predict(X)\n",
        "print(\"Predictions:\", predictions.round(2))  # rounding for clarity"
      ],
      "metadata": {
        "colab": {
          "base_uri": "https://localhost:8080/"
        },
        "id": "a5NhwFDFAE9a",
        "outputId": "604a0777-38a8-4842-f95f-afe5c9f344b0"
      },
      "execution_count": 5,
      "outputs": [
        {
          "output_type": "stream",
          "name": "stdout",
          "text": [
            "\u001b[1m1/1\u001b[0m \u001b[32m━━━━━━━━━━━━━━━━━━━━\u001b[0m\u001b[37m\u001b[0m \u001b[1m0s\u001b[0m 121ms/step\n",
            "Predictions: [[0.57]\n",
            " [0.54]\n",
            " [0.51]\n",
            " [0.34]]\n"
          ]
        }
      ]
    },
    {
      "cell_type": "code",
      "source": [],
      "metadata": {
        "id": "ghPL4ZQBAK_q"
      },
      "execution_count": null,
      "outputs": []
    }
  ]
}